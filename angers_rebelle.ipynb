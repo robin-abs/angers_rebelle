{
 "cells": [
  {
   "cell_type": "code",
   "execution_count": null,
   "id": "honest-invasion",
   "metadata": {
    "ExecuteTime": {
     "end_time": "2021-04-15T09:15:38.052070Z",
     "start_time": "2021-04-15T09:15:38.049077Z"
    }
   },
   "outputs": [],
   "source": [
    "from ipywidgets import *\n",
    "import random\n",
    "import geonamescache"
   ]
  },
  {
   "cell_type": "code",
   "execution_count": null,
   "id": "decent-training",
   "metadata": {
    "ExecuteTime": {
     "end_time": "2021-04-15T09:07:02.030647Z",
     "start_time": "2021-04-15T09:07:01.712273Z"
    }
   },
   "outputs": [],
   "source": [
    "gc = geonamescache.GeonamesCache()\n",
    "cities = gc.get_cities()\n",
    "d_fr_cities = { key: value for key, value in cities.items() if value.get('countrycode') == \"FR\" }\n",
    "fr_cities = [d_fr_cities[k].get('name') for k in d_fr_cities.keys()]\n",
    "fr_cities = [c for c in fr_cities if 'Marseille' not in c] + ['Marseille']"
   ]
  },
  {
   "cell_type": "code",
   "execution_count": null,
   "id": "dependent-johnson",
   "metadata": {
    "ExecuteTime": {
     "end_time": "2021-04-15T09:15:09.091444Z",
     "start_time": "2021-04-15T09:15:09.080844Z"
    }
   },
   "outputs": [],
   "source": [
    "adjectives = [\n",
    "    'agressive', \n",
    "    'ambitieuse', \n",
    "    'brave', \n",
    "    'brillante', \n",
    "    'calme', \n",
    "    'chaleureuse', \n",
    "    'combative', \n",
    "    'coopérative', \n",
    "    'cruelle', \n",
    "    'dangereuse', \n",
    "    'déterminée', \n",
    "    'dominante', \n",
    "    'entraînante', \n",
    "    'farfeluee', \n",
    "    'fatigante', \n",
    "    'fourbe', \n",
    "    'franche', \n",
    "    'généreuse', \n",
    "    'harmonieuse', \n",
    "    'hésitante', \n",
    "    'hypocrite', \n",
    "    'impartiale', \n",
    "    'instinctive', \n",
    "    'intrépide ', \n",
    "    'jalouse', \n",
    "    'loufoque', \n",
    "    'mauvaise', \n",
    "    'mystérieuse', \n",
    "    'placide', \n",
    "    'plaisante', \n",
    "    'ponctuelle', \n",
    "    'protectrice', \n",
    "    'sage', \n",
    "    'scélérate', \n",
    "    'serviable', \n",
    "    'sincère', \n",
    "    'solitaire', \n",
    "    'spirituelle', \n",
    "    'talentueuse', \n",
    "    'truculente', \n",
    "    'vilaine', \n",
    "    'vorace'\n",
    "]"
   ]
  },
  {
   "cell_type": "code",
   "execution_count": null,
   "id": "collective-model",
   "metadata": {
    "ExecuteTime": {
     "end_time": "2021-04-15T09:22:49.302318Z",
     "start_time": "2021-04-15T09:22:49.272895Z"
    }
   },
   "outputs": [],
   "source": [
    "@interact(fr_cities=fixed(fr_cities),\n",
    "          adjectives=fixed(adjectives),\n",
    "          refresh = widgets.ToggleButton(description='Fais-moi rêver'))\n",
    "def random_slogan(fr_cities, adjectives, refresh):\n",
    "    city = fr_cities[random.randint(0, len(fr_cities)-1)]\n",
    "    adjective = adjectives[random.randint(0, len(adjectives)-1)]\n",
    "    \n",
    "    pronom = 'la '\n",
    "    \n",
    "    if adjective[0] in ['a', 'e', 'i', 'o', 'u', 'y']:\n",
    "        pronom = \"l'\"\n",
    "\n",
    "    print(f'\\n{city}, {pronom}{adjective}')"
   ]
  },
  {
   "cell_type": "markdown",
   "id": "skilled-gardening",
   "metadata": {},
   "source": [
    "<br>\n",
    "<br>\n",
    "<br>\n",
    "<br>\n",
    "sources :\n",
    "\n",
    "- librairies de noms de villes : https://pypi.org/project/geonamescache/\n",
    "- liste d'adjectifs : http://www.patenotte.name/Aix/Ecriture/Feuilles_aides_pedagogiques/adjectifs_qualificatifs.htm"
   ]
  },
  {
   "cell_type": "code",
   "execution_count": null,
   "id": "flush-excess",
   "metadata": {},
   "outputs": [],
   "source": []
  }
 ],
 "metadata": {
  "kernelspec": {
   "display_name": "Python 3",
   "language": "python",
   "name": "python3"
  },
  "language_info": {
   "codemirror_mode": {
    "name": "ipython",
    "version": 3
   },
   "file_extension": ".py",
   "mimetype": "text/x-python",
   "name": "python",
   "nbconvert_exporter": "python",
   "pygments_lexer": "ipython3",
   "version": "3.8.6"
  },
  "toc": {
   "base_numbering": 1,
   "nav_menu": {},
   "number_sections": true,
   "sideBar": true,
   "skip_h1_title": false,
   "title_cell": "Table of Contents",
   "title_sidebar": "Contents",
   "toc_cell": false,
   "toc_position": {},
   "toc_section_display": true,
   "toc_window_display": false
  }
 },
 "nbformat": 4,
 "nbformat_minor": 5
}
